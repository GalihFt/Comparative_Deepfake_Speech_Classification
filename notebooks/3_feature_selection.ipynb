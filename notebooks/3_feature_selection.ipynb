{
  "cells": [
    {
      "cell_type": "code",
      "execution_count": null,
      "metadata": {
        "id": "xRkxs2RXs03E"
      },
      "outputs": [],
      "source": [
        "import os\n",
        "\n",
        "import numpy as np\n",
        "import pandas as pd\n",
        "import matplotlib.pyplot as plt\n",
        "from tqdm import tqdm\n",
        "\n",
        "from sklearn.ensemble import RandomForestClassifier\n",
        "from sklearn.svm import SVC, LinearSVC\n",
        "from sklearn.feature_selection import RFE, RFECV\n",
        "from sklearn.model_selection import RepeatedStratifiedKFold\n",
        "from sklearn.metrics import (\n",
        "    accuracy_score,\n",
        "    confusion_matrix,\n",
        "    ConfusionMatrixDisplay,\n",
        ")\n"
      ]
    },
    {
      "cell_type": "code",
      "execution_count": null,
      "metadata": {
        "colab": {
          "base_uri": "https://localhost:8080/",
          "height": 256
        },
        "id": "aUt_fzxNs44m",
        "outputId": "33c366d8-ecd7-497e-8311-2cd72dbae194"
      },
      "outputs": [
        {
          "data": {
            "text/html": [
              "<div>\n",
              "<style scoped>\n",
              "    .dataframe tbody tr th:only-of-type {\n",
              "        vertical-align: middle;\n",
              "    }\n",
              "\n",
              "    .dataframe tbody tr th {\n",
              "        vertical-align: top;\n",
              "    }\n",
              "\n",
              "    .dataframe thead th {\n",
              "        text-align: right;\n",
              "    }\n",
              "</style>\n",
              "<table border=\"1\" class=\"dataframe\">\n",
              "  <thead>\n",
              "    <tr style=\"text-align: right;\">\n",
              "      <th></th>\n",
              "      <th>chroma_1</th>\n",
              "      <th>chroma_2</th>\n",
              "      <th>chroma_3</th>\n",
              "      <th>chroma_4</th>\n",
              "      <th>chroma_5</th>\n",
              "      <th>chroma_6</th>\n",
              "      <th>chroma_7</th>\n",
              "      <th>chroma_8</th>\n",
              "      <th>chroma_9</th>\n",
              "      <th>chroma_10</th>\n",
              "      <th>...</th>\n",
              "      <th>mfcc_12</th>\n",
              "      <th>mfcc_13</th>\n",
              "      <th>mfcc_14</th>\n",
              "      <th>mfcc_15</th>\n",
              "      <th>mfcc_16</th>\n",
              "      <th>mfcc_17</th>\n",
              "      <th>mfcc_18</th>\n",
              "      <th>mfcc_19</th>\n",
              "      <th>mfcc_20</th>\n",
              "      <th>label</th>\n",
              "    </tr>\n",
              "  </thead>\n",
              "  <tbody>\n",
              "    <tr>\n",
              "      <th>0</th>\n",
              "      <td>0.539667</td>\n",
              "      <td>0.705159</td>\n",
              "      <td>0.649134</td>\n",
              "      <td>0.583651</td>\n",
              "      <td>0.531421</td>\n",
              "      <td>0.561278</td>\n",
              "      <td>0.453441</td>\n",
              "      <td>0.474912</td>\n",
              "      <td>0.456864</td>\n",
              "      <td>0.567574</td>\n",
              "      <td>...</td>\n",
              "      <td>0.316943</td>\n",
              "      <td>0.564993</td>\n",
              "      <td>0.092125</td>\n",
              "      <td>0.599576</td>\n",
              "      <td>0.388226</td>\n",
              "      <td>0.685851</td>\n",
              "      <td>0.370379</td>\n",
              "      <td>0.824795</td>\n",
              "      <td>0.299102</td>\n",
              "      <td>0</td>\n",
              "    </tr>\n",
              "    <tr>\n",
              "      <th>1</th>\n",
              "      <td>0.700929</td>\n",
              "      <td>0.910526</td>\n",
              "      <td>0.769736</td>\n",
              "      <td>0.831898</td>\n",
              "      <td>0.789822</td>\n",
              "      <td>0.678607</td>\n",
              "      <td>0.666799</td>\n",
              "      <td>0.743293</td>\n",
              "      <td>0.607547</td>\n",
              "      <td>0.605180</td>\n",
              "      <td>...</td>\n",
              "      <td>0.373482</td>\n",
              "      <td>0.603531</td>\n",
              "      <td>0.473667</td>\n",
              "      <td>0.846925</td>\n",
              "      <td>0.503283</td>\n",
              "      <td>0.623375</td>\n",
              "      <td>0.314519</td>\n",
              "      <td>0.700598</td>\n",
              "      <td>0.456883</td>\n",
              "      <td>0</td>\n",
              "    </tr>\n",
              "    <tr>\n",
              "      <th>2</th>\n",
              "      <td>0.709038</td>\n",
              "      <td>0.791240</td>\n",
              "      <td>0.661102</td>\n",
              "      <td>0.667024</td>\n",
              "      <td>0.683870</td>\n",
              "      <td>0.700922</td>\n",
              "      <td>0.633543</td>\n",
              "      <td>0.628824</td>\n",
              "      <td>0.643679</td>\n",
              "      <td>0.689421</td>\n",
              "      <td>...</td>\n",
              "      <td>0.415091</td>\n",
              "      <td>0.618660</td>\n",
              "      <td>0.464444</td>\n",
              "      <td>0.719470</td>\n",
              "      <td>0.520133</td>\n",
              "      <td>0.598141</td>\n",
              "      <td>0.388956</td>\n",
              "      <td>0.734982</td>\n",
              "      <td>0.370067</td>\n",
              "      <td>0</td>\n",
              "    </tr>\n",
              "    <tr>\n",
              "      <th>3</th>\n",
              "      <td>0.530169</td>\n",
              "      <td>0.716288</td>\n",
              "      <td>0.642201</td>\n",
              "      <td>0.794942</td>\n",
              "      <td>0.810297</td>\n",
              "      <td>0.778762</td>\n",
              "      <td>0.672078</td>\n",
              "      <td>0.716846</td>\n",
              "      <td>0.748976</td>\n",
              "      <td>0.813740</td>\n",
              "      <td>...</td>\n",
              "      <td>0.515809</td>\n",
              "      <td>0.680099</td>\n",
              "      <td>0.411544</td>\n",
              "      <td>0.792083</td>\n",
              "      <td>0.590471</td>\n",
              "      <td>0.626973</td>\n",
              "      <td>0.399913</td>\n",
              "      <td>0.877330</td>\n",
              "      <td>0.594645</td>\n",
              "      <td>0</td>\n",
              "    </tr>\n",
              "    <tr>\n",
              "      <th>4</th>\n",
              "      <td>0.606761</td>\n",
              "      <td>0.698771</td>\n",
              "      <td>0.700411</td>\n",
              "      <td>0.806784</td>\n",
              "      <td>0.815829</td>\n",
              "      <td>0.724553</td>\n",
              "      <td>0.583545</td>\n",
              "      <td>0.693354</td>\n",
              "      <td>0.571397</td>\n",
              "      <td>0.739391</td>\n",
              "      <td>...</td>\n",
              "      <td>0.498413</td>\n",
              "      <td>0.716406</td>\n",
              "      <td>0.419340</td>\n",
              "      <td>0.653179</td>\n",
              "      <td>0.441496</td>\n",
              "      <td>0.515069</td>\n",
              "      <td>0.322138</td>\n",
              "      <td>0.734589</td>\n",
              "      <td>0.426383</td>\n",
              "      <td>0</td>\n",
              "    </tr>\n",
              "    <tr>\n",
              "      <th>...</th>\n",
              "      <td>...</td>\n",
              "      <td>...</td>\n",
              "      <td>...</td>\n",
              "      <td>...</td>\n",
              "      <td>...</td>\n",
              "      <td>...</td>\n",
              "      <td>...</td>\n",
              "      <td>...</td>\n",
              "      <td>...</td>\n",
              "      <td>...</td>\n",
              "      <td>...</td>\n",
              "      <td>...</td>\n",
              "      <td>...</td>\n",
              "      <td>...</td>\n",
              "      <td>...</td>\n",
              "      <td>...</td>\n",
              "      <td>...</td>\n",
              "      <td>...</td>\n",
              "      <td>...</td>\n",
              "      <td>...</td>\n",
              "      <td>...</td>\n",
              "    </tr>\n",
              "    <tr>\n",
              "      <th>7637</th>\n",
              "      <td>0.437047</td>\n",
              "      <td>0.555612</td>\n",
              "      <td>0.487570</td>\n",
              "      <td>0.609676</td>\n",
              "      <td>0.565383</td>\n",
              "      <td>0.621709</td>\n",
              "      <td>0.705636</td>\n",
              "      <td>0.768562</td>\n",
              "      <td>0.671040</td>\n",
              "      <td>0.537779</td>\n",
              "      <td>...</td>\n",
              "      <td>0.625622</td>\n",
              "      <td>0.357911</td>\n",
              "      <td>0.573465</td>\n",
              "      <td>0.500598</td>\n",
              "      <td>0.638202</td>\n",
              "      <td>0.485155</td>\n",
              "      <td>0.570285</td>\n",
              "      <td>0.447402</td>\n",
              "      <td>0.553567</td>\n",
              "      <td>1</td>\n",
              "    </tr>\n",
              "    <tr>\n",
              "      <th>7638</th>\n",
              "      <td>0.286778</td>\n",
              "      <td>0.296154</td>\n",
              "      <td>0.394823</td>\n",
              "      <td>0.698401</td>\n",
              "      <td>0.685904</td>\n",
              "      <td>0.722048</td>\n",
              "      <td>0.569149</td>\n",
              "      <td>0.679403</td>\n",
              "      <td>0.785093</td>\n",
              "      <td>0.608060</td>\n",
              "      <td>...</td>\n",
              "      <td>0.631064</td>\n",
              "      <td>0.517908</td>\n",
              "      <td>0.599596</td>\n",
              "      <td>0.580383</td>\n",
              "      <td>0.628368</td>\n",
              "      <td>0.310323</td>\n",
              "      <td>0.410315</td>\n",
              "      <td>0.638640</td>\n",
              "      <td>0.454653</td>\n",
              "      <td>1</td>\n",
              "    </tr>\n",
              "    <tr>\n",
              "      <th>7639</th>\n",
              "      <td>0.386399</td>\n",
              "      <td>0.561362</td>\n",
              "      <td>0.596431</td>\n",
              "      <td>0.696707</td>\n",
              "      <td>0.591178</td>\n",
              "      <td>0.571610</td>\n",
              "      <td>0.670914</td>\n",
              "      <td>0.818815</td>\n",
              "      <td>0.770197</td>\n",
              "      <td>0.577832</td>\n",
              "      <td>...</td>\n",
              "      <td>0.660530</td>\n",
              "      <td>0.477367</td>\n",
              "      <td>0.563112</td>\n",
              "      <td>0.509746</td>\n",
              "      <td>0.566321</td>\n",
              "      <td>0.331353</td>\n",
              "      <td>0.613877</td>\n",
              "      <td>0.637037</td>\n",
              "      <td>0.532293</td>\n",
              "      <td>1</td>\n",
              "    </tr>\n",
              "    <tr>\n",
              "      <th>7640</th>\n",
              "      <td>0.441040</td>\n",
              "      <td>0.602926</td>\n",
              "      <td>0.523737</td>\n",
              "      <td>0.542881</td>\n",
              "      <td>0.670638</td>\n",
              "      <td>0.679416</td>\n",
              "      <td>0.491501</td>\n",
              "      <td>0.493725</td>\n",
              "      <td>0.556791</td>\n",
              "      <td>0.813018</td>\n",
              "      <td>...</td>\n",
              "      <td>0.529096</td>\n",
              "      <td>0.396013</td>\n",
              "      <td>0.642967</td>\n",
              "      <td>0.527645</td>\n",
              "      <td>0.665692</td>\n",
              "      <td>0.178644</td>\n",
              "      <td>0.453539</td>\n",
              "      <td>0.477542</td>\n",
              "      <td>0.553312</td>\n",
              "      <td>1</td>\n",
              "    </tr>\n",
              "    <tr>\n",
              "      <th>7641</th>\n",
              "      <td>0.566197</td>\n",
              "      <td>0.686384</td>\n",
              "      <td>0.729668</td>\n",
              "      <td>0.929500</td>\n",
              "      <td>0.952439</td>\n",
              "      <td>0.948192</td>\n",
              "      <td>0.852714</td>\n",
              "      <td>0.875189</td>\n",
              "      <td>0.848599</td>\n",
              "      <td>0.790122</td>\n",
              "      <td>...</td>\n",
              "      <td>0.719157</td>\n",
              "      <td>0.508317</td>\n",
              "      <td>0.748669</td>\n",
              "      <td>0.594113</td>\n",
              "      <td>0.647732</td>\n",
              "      <td>0.355089</td>\n",
              "      <td>0.651474</td>\n",
              "      <td>0.550374</td>\n",
              "      <td>0.534180</td>\n",
              "      <td>1</td>\n",
              "    </tr>\n",
              "  </tbody>\n",
              "</table>\n",
              "<p>7642 rows × 38 columns</p>\n",
              "</div>"
            ],
            "text/plain": [
              "      chroma_1  chroma_2  chroma_3  chroma_4  chroma_5  chroma_6  chroma_7  \\\n",
              "0     0.539667  0.705159  0.649134  0.583651  0.531421  0.561278  0.453441   \n",
              "1     0.700929  0.910526  0.769736  0.831898  0.789822  0.678607  0.666799   \n",
              "2     0.709038  0.791240  0.661102  0.667024  0.683870  0.700922  0.633543   \n",
              "3     0.530169  0.716288  0.642201  0.794942  0.810297  0.778762  0.672078   \n",
              "4     0.606761  0.698771  0.700411  0.806784  0.815829  0.724553  0.583545   \n",
              "...        ...       ...       ...       ...       ...       ...       ...   \n",
              "7637  0.437047  0.555612  0.487570  0.609676  0.565383  0.621709  0.705636   \n",
              "7638  0.286778  0.296154  0.394823  0.698401  0.685904  0.722048  0.569149   \n",
              "7639  0.386399  0.561362  0.596431  0.696707  0.591178  0.571610  0.670914   \n",
              "7640  0.441040  0.602926  0.523737  0.542881  0.670638  0.679416  0.491501   \n",
              "7641  0.566197  0.686384  0.729668  0.929500  0.952439  0.948192  0.852714   \n",
              "\n",
              "      chroma_8  chroma_9  chroma_10  ...   mfcc_12   mfcc_13   mfcc_14  \\\n",
              "0     0.474912  0.456864   0.567574  ...  0.316943  0.564993  0.092125   \n",
              "1     0.743293  0.607547   0.605180  ...  0.373482  0.603531  0.473667   \n",
              "2     0.628824  0.643679   0.689421  ...  0.415091  0.618660  0.464444   \n",
              "3     0.716846  0.748976   0.813740  ...  0.515809  0.680099  0.411544   \n",
              "4     0.693354  0.571397   0.739391  ...  0.498413  0.716406  0.419340   \n",
              "...        ...       ...        ...  ...       ...       ...       ...   \n",
              "7637  0.768562  0.671040   0.537779  ...  0.625622  0.357911  0.573465   \n",
              "7638  0.679403  0.785093   0.608060  ...  0.631064  0.517908  0.599596   \n",
              "7639  0.818815  0.770197   0.577832  ...  0.660530  0.477367  0.563112   \n",
              "7640  0.493725  0.556791   0.813018  ...  0.529096  0.396013  0.642967   \n",
              "7641  0.875189  0.848599   0.790122  ...  0.719157  0.508317  0.748669   \n",
              "\n",
              "       mfcc_15   mfcc_16   mfcc_17   mfcc_18   mfcc_19   mfcc_20  label  \n",
              "0     0.599576  0.388226  0.685851  0.370379  0.824795  0.299102      0  \n",
              "1     0.846925  0.503283  0.623375  0.314519  0.700598  0.456883      0  \n",
              "2     0.719470  0.520133  0.598141  0.388956  0.734982  0.370067      0  \n",
              "3     0.792083  0.590471  0.626973  0.399913  0.877330  0.594645      0  \n",
              "4     0.653179  0.441496  0.515069  0.322138  0.734589  0.426383      0  \n",
              "...        ...       ...       ...       ...       ...       ...    ...  \n",
              "7637  0.500598  0.638202  0.485155  0.570285  0.447402  0.553567      1  \n",
              "7638  0.580383  0.628368  0.310323  0.410315  0.638640  0.454653      1  \n",
              "7639  0.509746  0.566321  0.331353  0.613877  0.637037  0.532293      1  \n",
              "7640  0.527645  0.665692  0.178644  0.453539  0.477542  0.553312      1  \n",
              "7641  0.594113  0.647732  0.355089  0.651474  0.550374  0.534180      1  \n",
              "\n",
              "[7642 rows x 38 columns]"
            ]
          },
          "execution_count": 2,
          "metadata": {},
          "output_type": "execute_result"
        }
      ],
      "source": [
        "df_train = pd.read_csv(\"../data/processed/numeric_train_data.csv\")\n",
        "df_train.head(5)\n",
        "\n",
        "df_val = pd.read_csv(\"../data/processed/numeric_val_data.csv\")\n",
        "df_val"
      ]
    },
    {
      "cell_type": "code",
      "execution_count": null,
      "metadata": {},
      "outputs": [],
      "source": [
        "# Pisah fitur dan label\n",
        "X_train = df_train.iloc[:, :-1]\n",
        "y_train = df_train.iloc[:, -1]\n",
        "\n",
        "X_val = df_val.iloc[:, :-1]\n",
        "y_val = df_val.iloc[:, -1]\n",
        "\n",
        "# Output path\n",
        "output_path = '../data/output/rfe_val_results_rf.csv'\n",
        "\n",
        "# Hapus file jika sudah ada\n",
        "if os.path.exists(output_path):\n",
        "    os.remove(output_path)\n",
        "\n",
        "# Loop dari 1 sampai seluruh jumlah fitur\n",
        "for k in tqdm(range(1, X_train.shape[1] + 1)):\n",
        "\n",
        "    # Inisialisasi model dan RFE\n",
        "    rf = RandomForestClassifier(n_estimators=100, random_state=42, n_jobs=-1)\n",
        "    rfe = RFE(estimator=rf, n_features_to_select=k, step=1)\n",
        "\n",
        "    # Fit dan transformasi\n",
        "    rfe.fit(X_train, y_train)\n",
        "    X_train_rfe = rfe.transform(X_train)\n",
        "    X_val_rfe = rfe.transform(X_val)\n",
        "\n",
        "    # Fit model dan prediksi\n",
        "    rf.fit(X_train_rfe, y_train)\n",
        "    y_pred = rf.predict(X_val_rfe)\n",
        "    acc = accuracy_score(y_val, y_pred)\n",
        "\n",
        "    # Simpan hasil\n",
        "    pd.DataFrame([{\n",
        "        \"n_features\": k,\n",
        "        \"accuracy\": acc\n",
        "    }]).to_csv(output_path, mode='a', header=not os.path.exists(output_path), index=False)\n",
        "\n",
        "    print(f\"✔️ Feature set with {k} features evaluated.\")\n"
      ]
    },
    {
      "cell_type": "code",
      "execution_count": null,
      "metadata": {},
      "outputs": [
        {
          "name": "stdout",
          "output_type": "stream",
          "text": [
            "✅ Optimal number of features: 29\n",
            "📈 Highest validation accuracy: 0.9487\n"
          ]
        },
        {
          "data": {
            "image/png": "[encoded data removed]",
            "text/plain": [
              "<Figure size 1000x600 with 1 Axes>"
            ]
          },
          "metadata": {},
          "output_type": "display_data"
        }
      ],
      "source": [
        "# Load hasil RFE\n",
        "df = pd.read_csv('../data/output/rfe_val_results_rf.csv')\n",
        "\n",
        "# Karena tidak ada repetisi, kita tetap tambahkan kolom std dummy = 0\n",
        "df['std'] = 0\n",
        "\n",
        "# Ringkas ke dalam format summary\n",
        "summary = df.groupby('n_features')['accuracy'].agg(['mean']).reset_index()\n",
        "summary['std'] = 0  # tetap ditambahkan untuk jaga kompatibilitas visualisasi\n",
        "\n",
        "# Cari jumlah fitur dengan akurasi tertinggi\n",
        "best_mean = summary['mean'].max()\n",
        "k_optimal = summary[summary['mean'] == best_mean]['n_features'].min()\n",
        "\n",
        "print(f\"✅ Optimal number of features: {k_optimal}\")\n",
        "print(f\"📈 Highest validation accuracy: {best_mean:.4f}\")\n",
        "\n",
        "# Visualisasi\n",
        "plt.figure(figsize=(10, 6))\n",
        "plt.plot(summary['n_features'], summary['mean'], marker='o', label='Accuracy')\n",
        "plt.axvline(x=k_optimal, color='g', linestyle='--', label=f'Optimal k = {k_optimal}')\n",
        "plt.title('RFE Validation Accuracy vs Number of Features')\n",
        "plt.xlabel('Number of Features')\n",
        "plt.ylabel('Accuracy')\n",
        "plt.legend()\n",
        "plt.grid(True)\n",
        "plt.tight_layout()\n",
        "plt.show()\n"
      ]
    },
    {
      "cell_type": "code",
      "execution_count": 8,
      "metadata": {},
      "outputs": [
        {
          "name": "stdout",
          "output_type": "stream",
          "text": [
            "\n",
            "Fitur terpilih untuk k=5:\n",
            "1. mfcc_3\n",
            "2. mfcc_6\n",
            "3. mfcc_15\n",
            "4. mfcc_17\n",
            "5. mfcc_19\n"
          ]
        }
      ],
      "source": [
        "# Inisialisasi model\n",
        "rf = RandomForestClassifier(n_estimators=100, random_state=42, n_jobs=-1)\n",
        "\n",
        "# Pastikan X_train dalam bentuk DataFrame\n",
        "feature_names = X_train.columns\n",
        "\n",
        "k=5\n",
        "rfe = RFE(estimator=rf, n_features_to_select=k, step=1)\n",
        "rfe.fit(X_train, y_train)\n",
        "\n",
        "# Ambil nama fitur yang terpilih\n",
        "selected_features = feature_names[rfe.support_]\n",
        "\n",
        "print(f\"\\nFitur terpilih untuk k={k}:\")\n",
        "for i, name in enumerate(selected_features, 1):\n",
        "    print(f\"{i}. {name}\")\n"
      ]
    },
    {
      "cell_type": "code",
      "execution_count": 11,
      "metadata": {},
      "outputs": [
        {
          "data": {
            "text/plain": [
              "Index(['chroma_1', 'chroma_2', 'chroma_3', 'chroma_4', 'chroma_8', 'chroma_9',\n",
              "       'chroma_11', 'chroma_12', 'spectral_bandwidth_mean',\n",
              "       'spectral_rolloff_mean', 'mfcc_1', 'mfcc_3', 'mfcc_4', 'mfcc_5',\n",
              "       'mfcc_6', 'mfcc_7', 'mfcc_8', 'mfcc_9', 'mfcc_10', 'mfcc_11', 'mfcc_12',\n",
              "       'mfcc_13', 'mfcc_14', 'mfcc_15', 'mfcc_16', 'mfcc_17', 'mfcc_18',\n",
              "       'mfcc_19', 'mfcc_20'],\n",
              "      dtype='object')"
            ]
          },
          "execution_count": 11,
          "metadata": {},
          "output_type": "execute_result"
        }
      ],
      "source": [
        "selected_features"
      ]
    },
    {
      "cell_type": "markdown",
      "metadata": {},
      "source": [
        "## SVM Algorithm"
      ]
    },
    {
      "cell_type": "code",
      "execution_count": null,
      "metadata": {},
      "outputs": [
        {
          "name": "stderr",
          "output_type": "stream",
          "text": [
            "  3%|▎         | 1/37 [00:00<00:20,  1.75it/s]"
          ]
        },
        {
          "name": "stdout",
          "output_type": "stream",
          "text": [
            "✔️ Feature set with 1 features evaluated.\n"
          ]
        },
        {
          "name": "stderr",
          "output_type": "stream",
          "text": [
            "  5%|▌         | 2/37 [00:01<00:20,  1.69it/s]"
          ]
        },
        {
          "name": "stdout",
          "output_type": "stream",
          "text": [
            "✔️ Feature set with 2 features evaluated.\n"
          ]
        },
        {
          "name": "stderr",
          "output_type": "stream",
          "text": [
            "  8%|▊         | 3/37 [00:01<00:21,  1.60it/s]"
          ]
        },
        {
          "name": "stdout",
          "output_type": "stream",
          "text": [
            "✔️ Feature set with 3 features evaluated.\n"
          ]
        },
        {
          "name": "stderr",
          "output_type": "stream",
          "text": [
            " 11%|█         | 4/37 [00:02<00:20,  1.57it/s]"
          ]
        },
        {
          "name": "stdout",
          "output_type": "stream",
          "text": [
            "✔️ Feature set with 4 features evaluated.\n"
          ]
        },
        {
          "name": "stderr",
          "output_type": "stream",
          "text": [
            " 14%|█▎        | 5/37 [00:03<00:19,  1.64it/s]"
          ]
        },
        {
          "name": "stdout",
          "output_type": "stream",
          "text": [
            "✔️ Feature set with 5 features evaluated.\n"
          ]
        },
        {
          "name": "stderr",
          "output_type": "stream",
          "text": [
            " 16%|█▌        | 6/37 [00:03<00:18,  1.69it/s]"
          ]
        },
        {
          "name": "stdout",
          "output_type": "stream",
          "text": [
            "✔️ Feature set with 6 features evaluated.\n"
          ]
        },
        {
          "name": "stderr",
          "output_type": "stream",
          "text": [
            " 19%|█▉        | 7/37 [00:04<00:17,  1.70it/s]"
          ]
        },
        {
          "name": "stdout",
          "output_type": "stream",
          "text": [
            "✔️ Feature set with 7 features evaluated.\n"
          ]
        },
        {
          "name": "stderr",
          "output_type": "stream",
          "text": [
            " 22%|██▏       | 8/37 [00:04<00:16,  1.73it/s]"
          ]
        },
        {
          "name": "stdout",
          "output_type": "stream",
          "text": [
            "✔️ Feature set with 8 features evaluated.\n"
          ]
        },
        {
          "name": "stderr",
          "output_type": "stream",
          "text": [
            " 24%|██▍       | 9/37 [00:05<00:16,  1.75it/s]"
          ]
        },
        {
          "name": "stdout",
          "output_type": "stream",
          "text": [
            "✔️ Feature set with 9 features evaluated.\n"
          ]
        },
        {
          "name": "stderr",
          "output_type": "stream",
          "text": [
            " 27%|██▋       | 10/37 [00:05<00:15,  1.75it/s]"
          ]
        },
        {
          "name": "stdout",
          "output_type": "stream",
          "text": [
            "✔️ Feature set with 10 features evaluated.\n"
          ]
        },
        {
          "name": "stderr",
          "output_type": "stream",
          "text": [
            " 30%|██▉       | 11/37 [00:06<00:14,  1.82it/s]"
          ]
        },
        {
          "name": "stdout",
          "output_type": "stream",
          "text": [
            "✔️ Feature set with 11 features evaluated.\n"
          ]
        },
        {
          "name": "stderr",
          "output_type": "stream",
          "text": [
            " 32%|███▏      | 12/37 [00:06<00:13,  1.89it/s]"
          ]
        },
        {
          "name": "stdout",
          "output_type": "stream",
          "text": [
            "✔️ Feature set with 12 features evaluated.\n"
          ]
        },
        {
          "name": "stderr",
          "output_type": "stream",
          "text": [
            " 35%|███▌      | 13/37 [00:07<00:12,  1.95it/s]"
          ]
        },
        {
          "name": "stdout",
          "output_type": "stream",
          "text": [
            "✔️ Feature set with 13 features evaluated.\n"
          ]
        },
        {
          "name": "stderr",
          "output_type": "stream",
          "text": [
            " 38%|███▊      | 14/37 [00:07<00:11,  1.98it/s]"
          ]
        },
        {
          "name": "stdout",
          "output_type": "stream",
          "text": [
            "✔️ Feature set with 14 features evaluated.\n"
          ]
        },
        {
          "name": "stderr",
          "output_type": "stream",
          "text": [
            " 41%|████      | 15/37 [00:08<00:10,  2.02it/s]"
          ]
        },
        {
          "name": "stdout",
          "output_type": "stream",
          "text": [
            "✔️ Feature set with 15 features evaluated.\n"
          ]
        },
        {
          "name": "stderr",
          "output_type": "stream",
          "text": [
            " 43%|████▎     | 16/37 [00:08<00:10,  1.95it/s]"
          ]
        },
        {
          "name": "stdout",
          "output_type": "stream",
          "text": [
            "✔️ Feature set with 16 features evaluated.\n"
          ]
        },
        {
          "name": "stderr",
          "output_type": "stream",
          "text": [
            " 46%|████▌     | 17/37 [00:09<00:09,  2.01it/s]"
          ]
        },
        {
          "name": "stdout",
          "output_type": "stream",
          "text": [
            "✔️ Feature set with 17 features evaluated.\n"
          ]
        },
        {
          "name": "stderr",
          "output_type": "stream",
          "text": [
            " 49%|████▊     | 18/37 [00:09<00:09,  2.06it/s]"
          ]
        },
        {
          "name": "stdout",
          "output_type": "stream",
          "text": [
            "✔️ Feature set with 18 features evaluated.\n"
          ]
        },
        {
          "name": "stderr",
          "output_type": "stream",
          "text": [
            " 51%|█████▏    | 19/37 [00:10<00:08,  2.13it/s]"
          ]
        },
        {
          "name": "stdout",
          "output_type": "stream",
          "text": [
            "✔️ Feature set with 19 features evaluated.\n"
          ]
        },
        {
          "name": "stderr",
          "output_type": "stream",
          "text": [
            " 54%|█████▍    | 20/37 [00:10<00:07,  2.17it/s]"
          ]
        },
        {
          "name": "stdout",
          "output_type": "stream",
          "text": [
            "✔️ Feature set with 20 features evaluated.\n"
          ]
        },
        {
          "name": "stderr",
          "output_type": "stream",
          "text": [
            " 57%|█████▋    | 21/37 [00:11<00:07,  2.14it/s]"
          ]
        },
        {
          "name": "stdout",
          "output_type": "stream",
          "text": [
            "✔️ Feature set with 21 features evaluated.\n"
          ]
        },
        {
          "name": "stderr",
          "output_type": "stream",
          "text": [
            " 59%|█████▉    | 22/37 [00:11<00:06,  2.29it/s]"
          ]
        },
        {
          "name": "stdout",
          "output_type": "stream",
          "text": [
            "✔️ Feature set with 22 features evaluated.\n"
          ]
        },
        {
          "name": "stderr",
          "output_type": "stream",
          "text": [
            " 62%|██████▏   | 23/37 [00:11<00:05,  2.35it/s]"
          ]
        },
        {
          "name": "stdout",
          "output_type": "stream",
          "text": [
            "✔️ Feature set with 23 features evaluated.\n"
          ]
        },
        {
          "name": "stderr",
          "output_type": "stream",
          "text": [
            " 65%|██████▍   | 24/37 [00:12<00:05,  2.48it/s]"
          ]
        },
        {
          "name": "stdout",
          "output_type": "stream",
          "text": [
            "✔️ Feature set with 24 features evaluated.\n"
          ]
        },
        {
          "name": "stderr",
          "output_type": "stream",
          "text": [
            " 68%|██████▊   | 25/37 [00:12<00:04,  2.54it/s]"
          ]
        },
        {
          "name": "stdout",
          "output_type": "stream",
          "text": [
            "✔️ Feature set with 25 features evaluated.\n"
          ]
        },
        {
          "name": "stderr",
          "output_type": "stream",
          "text": [
            " 70%|███████   | 26/37 [00:12<00:04,  2.67it/s]"
          ]
        },
        {
          "name": "stdout",
          "output_type": "stream",
          "text": [
            "✔️ Feature set with 26 features evaluated.\n"
          ]
        },
        {
          "name": "stderr",
          "output_type": "stream",
          "text": [
            " 73%|███████▎  | 27/37 [00:13<00:03,  2.77it/s]"
          ]
        },
        {
          "name": "stdout",
          "output_type": "stream",
          "text": [
            "✔️ Feature set with 27 features evaluated.\n"
          ]
        },
        {
          "name": "stderr",
          "output_type": "stream",
          "text": [
            " 76%|███████▌  | 28/37 [00:13<00:03,  2.91it/s]"
          ]
        },
        {
          "name": "stdout",
          "output_type": "stream",
          "text": [
            "✔️ Feature set with 28 features evaluated.\n"
          ]
        },
        {
          "name": "stderr",
          "output_type": "stream",
          "text": [
            " 78%|███████▊  | 29/37 [00:13<00:02,  3.11it/s]"
          ]
        },
        {
          "name": "stdout",
          "output_type": "stream",
          "text": [
            "✔️ Feature set with 29 features evaluated.\n"
          ]
        },
        {
          "name": "stderr",
          "output_type": "stream",
          "text": [
            " 81%|████████  | 30/37 [00:14<00:02,  3.28it/s]"
          ]
        },
        {
          "name": "stdout",
          "output_type": "stream",
          "text": [
            "✔️ Feature set with 30 features evaluated.\n"
          ]
        },
        {
          "name": "stderr",
          "output_type": "stream",
          "text": [
            " 84%|████████▍ | 31/37 [00:14<00:01,  3.61it/s]"
          ]
        },
        {
          "name": "stdout",
          "output_type": "stream",
          "text": [
            "✔️ Feature set with 31 features evaluated.\n"
          ]
        },
        {
          "name": "stderr",
          "output_type": "stream",
          "text": [
            " 86%|████████▋ | 32/37 [00:14<00:01,  3.90it/s]"
          ]
        },
        {
          "name": "stdout",
          "output_type": "stream",
          "text": [
            "✔️ Feature set with 32 features evaluated.\n",
            "✔️ Feature set with 33 features evaluated.\n"
          ]
        },
        {
          "name": "stderr",
          "output_type": "stream",
          "text": [
            " 95%|█████████▍| 35/37 [00:14<00:00,  5.57it/s]"
          ]
        },
        {
          "name": "stdout",
          "output_type": "stream",
          "text": [
            "✔️ Feature set with 34 features evaluated.\n",
            "✔️ Feature set with 35 features evaluated.\n"
          ]
        },
        {
          "name": "stderr",
          "output_type": "stream",
          "text": [
            "100%|██████████| 37/37 [00:15<00:00,  2.43it/s]"
          ]
        },
        {
          "name": "stdout",
          "output_type": "stream",
          "text": [
            "✔️ Feature set with 36 features evaluated.\n",
            "✔️ Feature set with 37 features evaluated.\n"
          ]
        },
        {
          "name": "stderr",
          "output_type": "stream",
          "text": [
            "\n"
          ]
        }
      ],
      "source": [
        "# Output path\n",
        "output_path = '../data/output/rfe_val_results_svm_2.csv'\n",
        "\n",
        "# Hapus file jika sudah ada\n",
        "if os.path.exists(output_path):\n",
        "    os.remove(output_path)\n",
        "\n",
        "# Loop jumlah fitur (1 sampai seluruh fitur)\n",
        "for k in tqdm(range(1, X_train.shape[1] + 1)):\n",
        "\n",
        "    # Inisialisasi model dan RFE\n",
        "    svm = LinearSVC(C=1.0, max_iter=5000, dual=False, random_state=42)\n",
        "    rfe = RFE(estimator=svm, n_features_to_select=k, step=1)\n",
        "\n",
        "    # Fit RFE dan transform\n",
        "    rfe.fit(X_train, y_train)\n",
        "    X_train_rfe = rfe.transform(X_train)\n",
        "    X_val_rfe = rfe.transform(X_val)\n",
        "\n",
        "    # Fit model SVM dan prediksi ke validasi\n",
        "    svm.fit(X_train_rfe, y_train)\n",
        "    y_pred = svm.predict(X_val_rfe)\n",
        "    acc = accuracy_score(y_val, y_pred)\n",
        "\n",
        "    # Simpan hasil\n",
        "    pd.DataFrame([{\n",
        "        \"n_features\": k,\n",
        "        \"accuracy\": acc\n",
        "    }]).to_csv(output_path, mode='a', header=not os.path.exists(output_path), index=False)\n",
        "\n",
        "    print(f\"✔️ Feature set with {k} features evaluated.\")"
      ]
    },
    {
      "cell_type": "code",
      "execution_count": null,
      "metadata": {},
      "outputs": [
        {
          "name": "stdout",
          "output_type": "stream",
          "text": [
            "✅ Optimal number of features (SVM): 24\n",
            "📈 Highest validation accuracy (SVM): 0.9507\n"
          ]
        },
        {
          "data": {
            "image/png": "[encoded data removed]",
            "text/plain": [
              "<Figure size 1200x600 with 1 Axes>"
            ]
          },
          "metadata": {},
          "output_type": "display_data"
        }
      ],
      "source": [
        "# Load hasil RFE SVM tanpa repetisi\n",
        "df_svm = pd.read_csv('../data/output/rfe_val_results_svm_2.csv')\n",
        "\n",
        "# Karena tidak ada repetisi, buat kolom std dummy = 0\n",
        "df_svm['std'] = 0\n",
        "\n",
        "# Ringkas dan buat summary\n",
        "summary_svm = df_svm.groupby('n_features')['accuracy'].agg(['mean']).reset_index()\n",
        "summary_svm['std'] = 0\n",
        "\n",
        "# Cari jumlah fitur dengan akurasi terbaik\n",
        "best_mean_svm = summary_svm['mean'].max()\n",
        "k_optimal_svm = summary_svm[summary_svm['mean'] == best_mean_svm]['n_features'].min()\n",
        "\n",
        "# ✅ Print ringkasan\n",
        "print(f\"✅ Optimal number of features (SVM): {k_optimal_svm}\")\n",
        "print(f\"📈 Highest validation accuracy (SVM): {best_mean_svm:.4f}\")\n",
        "\n",
        "# 🔧 Visualisasi\n",
        "plt.figure(figsize=(12, 6))\n",
        "plt.plot(summary_svm['n_features'], summary_svm['mean'], marker='o', label='Validation Accuracy')\n",
        "plt.axvline(x=k_optimal_svm, color='g', linestyle='--', label=f'Optimal k = {k_optimal_svm}')\n",
        "plt.title('SVM RFE Validation Accuracy vs Number of Features')\n",
        "plt.xlabel('Number of Features')\n",
        "plt.ylabel('Accuracy')\n",
        "plt.legend()\n",
        "plt.grid(True)\n",
        "plt.tight_layout()\n",
        "plt.show()\n"
      ]
    },
    {
      "cell_type": "code",
      "execution_count": 9,
      "metadata": {},
      "outputs": [
        {
          "name": "stdout",
          "output_type": "stream",
          "text": [
            "\n",
            "Fitur terpilih untuk k=5 (menggunakan LinearSVC):\n",
            "1. spectral_centroid_mean\n",
            "2. spectral_rolloff_mean\n",
            "3. mfcc_1\n",
            "4. mfcc_6\n",
            "5. mfcc_19\n"
          ]
        }
      ],
      "source": [
        "# Inisialisasi model SVM linear\n",
        "svm = LinearSVC(C=1.0, max_iter=5000, dual=False, random_state=42)\n",
        "\n",
        "# Pastikan X_train dalam bentuk DataFrame\n",
        "feature_names = X_train.columns\n",
        "\n",
        "k = 5\n",
        "rfe = RFE(estimator=svm, n_features_to_select=k, step=1)\n",
        "rfe.fit(X_train, y_train)\n",
        "\n",
        "# Ambil nama fitur yang terpilih\n",
        "selected_features = feature_names[rfe.support_]\n",
        "\n",
        "# Cetak hasil\n",
        "print(f\"\\nFitur terpilih untuk k={k} (menggunakan LinearSVC):\")\n",
        "for i, name in enumerate(selected_features, 1):\n",
        "    print(f\"{i}. {name}\")\n"
      ]
    },
    {
      "cell_type": "code",
      "execution_count": 13,
      "metadata": {},
      "outputs": [
        {
          "data": {
            "text/plain": [
              "Index(['chroma_1', 'chroma_4', 'chroma_7', 'chroma_8', 'chroma_11', 'rms_mean',\n",
              "       'spectral_centroid_mean', 'spectral_bandwidth_mean',\n",
              "       'spectral_rolloff_mean', 'zcr_mean', 'mfcc_1', 'mfcc_2', 'mfcc_3',\n",
              "       'mfcc_4', 'mfcc_5', 'mfcc_6', 'mfcc_7', 'mfcc_9', 'mfcc_10', 'mfcc_14',\n",
              "       'mfcc_17', 'mfcc_18', 'mfcc_19', 'mfcc_20'],\n",
              "      dtype='object')"
            ]
          },
          "execution_count": 13,
          "metadata": {},
          "output_type": "execute_result"
        }
      ],
      "source": [
        "selected_features"
      ]
    }
  ],
  "metadata": {
    "colab": {
      "provenance": []
    },
    "kernelspec": {
      "display_name": "newenv2",
      "language": "python",
      "name": "python3"
    },
    "language_info": {
      "codemirror_mode": {
        "name": "ipython",
        "version": 3
      },
      "file_extension": ".py",
      "mimetype": "text/x-python",
      "name": "python",
      "nbconvert_exporter": "python",
      "pygments_lexer": "ipython3",
      "version": "3.9.18"
    }
  },
  "nbformat": 4,
  "nbformat_minor": 0
}
