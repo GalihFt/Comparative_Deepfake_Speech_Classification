{
 "cells": [
  {
   "cell_type": "code",
   "execution_count": 1,
   "id": "12f79509",
   "metadata": {},
   "outputs": [],
   "source": [
    "import os\n",
    "import pandas as pd\n",
    "import numpy as np\n"
   ]
  },
  {
   "cell_type": "code",
   "execution_count": null,
   "id": "a44c73f7",
   "metadata": {},
   "outputs": [],
   "source": [
    "base_path = '..\\data\\ASVSPOOF 2019\\LA' #This folder contains the ASVspoof audio files. However, I have already extracted them into numeric and image formats, so you don’t need to extract them again.\n",
    "protocol_dir = os.path.join(base_path, 'ASVspoof2019_LA_cm_protocols')\n",
    "train_dir = os.path.join(base_path, 'ASVspoof2019_LA_train', 'flac')\n",
    "dev_dir = os.path.join(base_path, 'ASVspoof2019_LA_dev', 'flac')\n",
    "eval_dir = os.path.join(base_path, 'ASVspoof2019_LA_eval', 'flac')"
   ]
  },
  {
   "cell_type": "code",
   "execution_count": 3,
   "id": "0e35d4e2",
   "metadata": {},
   "outputs": [],
   "source": [
    "def get_file_path(directory, filename):\n",
    "    return os.path.join(directory, f'{filename}.flac')"
   ]
  },
  {
   "cell_type": "code",
   "execution_count": 4,
   "id": "c1b9b4d7",
   "metadata": {},
   "outputs": [],
   "source": [
    "def read_dataset(protocol_path, directory):\n",
    "    \"\"\"Reads CM protocol correctly and adds attack_id as-is.\"\"\"\n",
    "    df = pd.read_csv(protocol_path, \n",
    "                     delim_whitespace=True, \n",
    "                     header=None,\n",
    "                     names=['speaker_id', 'filename', 'null', 'system_id', 'class_name'])\n",
    "\n",
    "    df['filepath'] = df['filename'].apply(lambda x: get_file_path(directory, x))\n",
    "    df.drop('null', axis=1, inplace=True)  # Kolom ke-3 tidak digunakan\n",
    "    df.rename(columns={'system_id': 'attack_id'}, inplace=True)  # Ganti nama agar lebih deskriptif\n",
    "\n",
    "    return df\n"
   ]
  },
  {
   "cell_type": "code",
   "execution_count": 5,
   "id": "024eeceb",
   "metadata": {},
   "outputs": [],
   "source": [
    "\n",
    "def label_to_int(class_name):\n",
    "    if class_name == 'bonafide':\n",
    "        return 0\n",
    "    else:\n",
    "        return 1\n",
    "    \n",
    "def add_columns(df, subset):\n",
    "    df['target'] = df['class_name'].apply(label_to_int)\n",
    "    df['subset'] = subset\n",
    "    return df"
   ]
  },
  {
   "cell_type": "code",
   "execution_count": 7,
   "id": "c2a301d2",
   "metadata": {},
   "outputs": [
    {
     "name": "stderr",
     "output_type": "stream",
     "text": [
      "C:\\Users\\USER\\AppData\\Local\\Temp\\ipykernel_13608\\2293556490.py:3: FutureWarning: The 'delim_whitespace' keyword in pd.read_csv is deprecated and will be removed in a future version. Use ``sep='\\s+'`` instead\n",
      "  df = pd.read_csv(protocol_path,\n",
      "C:\\Users\\USER\\AppData\\Local\\Temp\\ipykernel_13608\\2293556490.py:3: FutureWarning: The 'delim_whitespace' keyword in pd.read_csv is deprecated and will be removed in a future version. Use ``sep='\\s+'`` instead\n",
      "  df = pd.read_csv(protocol_path,\n",
      "C:\\Users\\USER\\AppData\\Local\\Temp\\ipykernel_13608\\2293556490.py:3: FutureWarning: The 'delim_whitespace' keyword in pd.read_csv is deprecated and will be removed in a future version. Use ``sep='\\s+'`` instead\n",
      "  df = pd.read_csv(protocol_path,\n"
     ]
    }
   ],
   "source": [
    "train_df = read_dataset(os.path.join(protocol_dir, 'ASVspoof2019.LA.cm.train.trn.txt'), train_dir)\n",
    "dev_df = read_dataset(os.path.join(protocol_dir, 'ASVspoof2019.LA.cm.dev.trl.txt'), dev_dir)\n",
    "eval_df = read_dataset(os.path.join(protocol_dir, 'ASVspoof2019.LA.cm.eval.trl.txt'), eval_dir)\n",
    "\n",
    "train_df = add_columns(train_df, 'training')\n",
    "dev_df = add_columns(dev_df, 'validation')\n",
    "eval_df = add_columns(eval_df, 'testing')\n"
   ]
  },
  {
   "cell_type": "code",
   "execution_count": 7,
   "id": "1adf9afa",
   "metadata": {},
   "outputs": [
    {
     "data": {
      "text/plain": [
       "attack_id\n",
       "A01    3800\n",
       "A02    3800\n",
       "A03    3800\n",
       "A04    3800\n",
       "A05    3800\n",
       "A06    3800\n",
       "-      2580\n",
       "Name: count, dtype: int64"
      ]
     },
     "execution_count": 7,
     "metadata": {},
     "output_type": "execute_result"
    }
   ],
   "source": [
    "train_df[\"attack_id\"].value_counts()"
   ]
  },
  {
   "cell_type": "code",
   "execution_count": 8,
   "id": "c55d8911",
   "metadata": {},
   "outputs": [
    {
     "data": {
      "text/plain": [
       "attack_id\n",
       "A01    3716\n",
       "A02    3716\n",
       "A03    3716\n",
       "A04    3716\n",
       "A05    3716\n",
       "A06    3716\n",
       "-      2548\n",
       "Name: count, dtype: int64"
      ]
     },
     "execution_count": 8,
     "metadata": {},
     "output_type": "execute_result"
    }
   ],
   "source": [
    "dev_df[\"attack_id\"].value_counts()"
   ]
  },
  {
   "cell_type": "code",
   "execution_count": 9,
   "id": "3409ebe4",
   "metadata": {},
   "outputs": [
    {
     "data": {
      "text/plain": [
       "attack_id\n",
       "-      7355\n",
       "A11    4914\n",
       "A14    4914\n",
       "A16    4914\n",
       "A09    4914\n",
       "A13    4914\n",
       "A12    4914\n",
       "A18    4914\n",
       "A15    4914\n",
       "A08    4914\n",
       "A17    4914\n",
       "A10    4914\n",
       "A07    4914\n",
       "A19    4914\n",
       "Name: count, dtype: int64"
      ]
     },
     "execution_count": 9,
     "metadata": {},
     "output_type": "execute_result"
    }
   ],
   "source": [
    "eval_df[\"attack_id\"].value_counts()"
   ]
  },
  {
   "cell_type": "code",
   "execution_count": 8,
   "id": "40ab81cd",
   "metadata": {},
   "outputs": [],
   "source": [
    "def balanced_resample(df, n_bonafide, n_per_attack):\n",
    "    # Pisahkan bonafide dan spoof\n",
    "    bonafide = df[df['attack_id'] == '-'].sample(n=n_bonafide, random_state=42)\n",
    "    \n",
    "    spoof_ids = [aid for aid in df['attack_id'].unique() if aid != '-']\n",
    "    \n",
    "    spoof = pd.concat([\n",
    "        df[df['attack_id'] == aid].sample(n=n_per_attack, random_state=42)\n",
    "        for aid in spoof_ids\n",
    "    ])\n",
    "    \n",
    "    return pd.concat([bonafide, spoof]).reset_index(drop=True)\n"
   ]
  },
  {
   "cell_type": "code",
   "execution_count": 9,
   "id": "03425867",
   "metadata": {},
   "outputs": [
    {
     "data": {
      "text/plain": [
       "class_name\n",
       "spoof       22800\n",
       "bonafide     2580\n",
       "Name: count, dtype: int64"
      ]
     },
     "execution_count": 9,
     "metadata": {},
     "output_type": "execute_result"
    }
   ],
   "source": [
    "train_df[\"class_name\"].value_counts()"
   ]
  },
  {
   "cell_type": "code",
   "execution_count": 11,
   "id": "c0973a70",
   "metadata": {},
   "outputs": [
    {
     "name": "stdout",
     "output_type": "stream",
     "text": [
      "class_name\n",
      "spoof       5160\n",
      "bonafide    2580\n",
      "Name: count, dtype: int64\n"
     ]
    }
   ],
   "source": [
    "train_df_balanced = balanced_resample(train_df, n_bonafide=2580, n_per_attack=860)\n",
    "\n",
    "# Cek hasil\n",
    "print(train_df_balanced[\"class_name\"].value_counts())\n"
   ]
  },
  {
   "cell_type": "code",
   "execution_count": 13,
   "id": "a4057f3d",
   "metadata": {},
   "outputs": [
    {
     "data": {
      "text/plain": [
       "attack_id\n",
       "-      2580\n",
       "A01     860\n",
       "A02     860\n",
       "A03     860\n",
       "A04     860\n",
       "A05     860\n",
       "A06     860\n",
       "Name: count, dtype: int64"
      ]
     },
     "execution_count": 13,
     "metadata": {},
     "output_type": "execute_result"
    }
   ],
   "source": [
    "train_df_balanced[\"attack_id\"].value_counts()"
   ]
  },
  {
   "cell_type": "code",
   "execution_count": 14,
   "id": "3e42de42",
   "metadata": {},
   "outputs": [
    {
     "data": {
      "text/plain": [
       "class_name\n",
       "spoof       22296\n",
       "bonafide     2548\n",
       "Name: count, dtype: int64"
      ]
     },
     "execution_count": 14,
     "metadata": {},
     "output_type": "execute_result"
    }
   ],
   "source": [
    "dev_df[\"class_name\"].value_counts()"
   ]
  },
  {
   "cell_type": "code",
   "execution_count": 18,
   "id": "d02c65e8",
   "metadata": {},
   "outputs": [
    {
     "name": "stdout",
     "output_type": "stream",
     "text": [
      "class_name\n",
      "spoof       5094\n",
      "bonafide    2548\n",
      "Name: count, dtype: int64\n"
     ]
    }
   ],
   "source": [
    "dev_df_balanced = balanced_resample(dev_df, n_bonafide=2548, n_per_attack=849)\n",
    "\n",
    "# Cek hasil\n",
    "print(dev_df_balanced[\"class_name\"].value_counts())\n"
   ]
  },
  {
   "cell_type": "code",
   "execution_count": 19,
   "id": "39c047e4",
   "metadata": {},
   "outputs": [
    {
     "data": {
      "text/plain": [
       "attack_id\n",
       "-      2548\n",
       "A01     849\n",
       "A02     849\n",
       "A03     849\n",
       "A04     849\n",
       "A05     849\n",
       "A06     849\n",
       "Name: count, dtype: int64"
      ]
     },
     "execution_count": 19,
     "metadata": {},
     "output_type": "execute_result"
    }
   ],
   "source": [
    "dev_df_balanced[\"attack_id\"].value_counts()"
   ]
  },
  {
   "cell_type": "code",
   "execution_count": 20,
   "id": "29c937b5",
   "metadata": {},
   "outputs": [
    {
     "data": {
      "text/plain": [
       "class_name\n",
       "spoof       63882\n",
       "bonafide     7355\n",
       "Name: count, dtype: int64"
      ]
     },
     "execution_count": 20,
     "metadata": {},
     "output_type": "execute_result"
    }
   ],
   "source": [
    "eval_df[\"class_name\"].value_counts()"
   ]
  },
  {
   "cell_type": "code",
   "execution_count": 23,
   "id": "aaf35d5c",
   "metadata": {},
   "outputs": [
    {
     "name": "stdout",
     "output_type": "stream",
     "text": [
      "class_name\n",
      "spoof       14716\n",
      "bonafide     7355\n",
      "Name: count, dtype: int64\n"
     ]
    }
   ],
   "source": [
    "test_df_balanced = balanced_resample(eval_df, n_bonafide=7355, n_per_attack=1132)\n",
    "\n",
    "# Cek hasil\n",
    "print(test_df_balanced[\"class_name\"].value_counts())\n"
   ]
  },
  {
   "cell_type": "code",
   "execution_count": 24,
   "id": "0a15b540",
   "metadata": {},
   "outputs": [
    {
     "data": {
      "text/plain": [
       "attack_id\n",
       "-      7355\n",
       "A11    1132\n",
       "A14    1132\n",
       "A16    1132\n",
       "A09    1132\n",
       "A13    1132\n",
       "A12    1132\n",
       "A18    1132\n",
       "A15    1132\n",
       "A08    1132\n",
       "A17    1132\n",
       "A10    1132\n",
       "A07    1132\n",
       "A19    1132\n",
       "Name: count, dtype: int64"
      ]
     },
     "execution_count": 24,
     "metadata": {},
     "output_type": "execute_result"
    }
   ],
   "source": [
    "test_df_balanced[\"attack_id\"].value_counts()"
   ]
  },
  {
   "cell_type": "code",
   "execution_count": 35,
   "id": "7980b48c",
   "metadata": {},
   "outputs": [
    {
     "data": {
      "text/html": [
       "<div>\n",
       "<style scoped>\n",
       "    .dataframe tbody tr th:only-of-type {\n",
       "        vertical-align: middle;\n",
       "    }\n",
       "\n",
       "    .dataframe tbody tr th {\n",
       "        vertical-align: top;\n",
       "    }\n",
       "\n",
       "    .dataframe thead th {\n",
       "        text-align: right;\n",
       "    }\n",
       "</style>\n",
       "<table border=\"1\" class=\"dataframe\">\n",
       "  <thead>\n",
       "    <tr style=\"text-align: right;\">\n",
       "      <th></th>\n",
       "      <th>speaker_id</th>\n",
       "      <th>filename</th>\n",
       "      <th>attack_id</th>\n",
       "      <th>class_name</th>\n",
       "      <th>filepath</th>\n",
       "      <th>target</th>\n",
       "      <th>subset</th>\n",
       "    </tr>\n",
       "  </thead>\n",
       "  <tbody>\n",
       "    <tr>\n",
       "      <th>0</th>\n",
       "      <td>LA_0085</td>\n",
       "      <td>LA_T_3891170</td>\n",
       "      <td>-</td>\n",
       "      <td>bonafide</td>\n",
       "      <td>D:\\sem 7\\Bismillah Skripsi\\Voice Recog\\Data\\AS...</td>\n",
       "      <td>0</td>\n",
       "      <td>training</td>\n",
       "    </tr>\n",
       "    <tr>\n",
       "      <th>1</th>\n",
       "      <td>LA_0097</td>\n",
       "      <td>LA_T_2948101</td>\n",
       "      <td>-</td>\n",
       "      <td>bonafide</td>\n",
       "      <td>D:\\sem 7\\Bismillah Skripsi\\Voice Recog\\Data\\AS...</td>\n",
       "      <td>0</td>\n",
       "      <td>training</td>\n",
       "    </tr>\n",
       "    <tr>\n",
       "      <th>2</th>\n",
       "      <td>LA_0084</td>\n",
       "      <td>LA_T_8919107</td>\n",
       "      <td>-</td>\n",
       "      <td>bonafide</td>\n",
       "      <td>D:\\sem 7\\Bismillah Skripsi\\Voice Recog\\Data\\AS...</td>\n",
       "      <td>0</td>\n",
       "      <td>training</td>\n",
       "    </tr>\n",
       "    <tr>\n",
       "      <th>3</th>\n",
       "      <td>LA_0081</td>\n",
       "      <td>LA_T_6650735</td>\n",
       "      <td>-</td>\n",
       "      <td>bonafide</td>\n",
       "      <td>D:\\sem 7\\Bismillah Skripsi\\Voice Recog\\Data\\AS...</td>\n",
       "      <td>0</td>\n",
       "      <td>training</td>\n",
       "    </tr>\n",
       "    <tr>\n",
       "      <th>4</th>\n",
       "      <td>LA_0086</td>\n",
       "      <td>LA_T_5362691</td>\n",
       "      <td>-</td>\n",
       "      <td>bonafide</td>\n",
       "      <td>D:\\sem 7\\Bismillah Skripsi\\Voice Recog\\Data\\AS...</td>\n",
       "      <td>0</td>\n",
       "      <td>training</td>\n",
       "    </tr>\n",
       "    <tr>\n",
       "      <th>...</th>\n",
       "      <td>...</td>\n",
       "      <td>...</td>\n",
       "      <td>...</td>\n",
       "      <td>...</td>\n",
       "      <td>...</td>\n",
       "      <td>...</td>\n",
       "      <td>...</td>\n",
       "    </tr>\n",
       "    <tr>\n",
       "      <th>37448</th>\n",
       "      <td>LA_0013</td>\n",
       "      <td>LA_E_7178035</td>\n",
       "      <td>A19</td>\n",
       "      <td>spoof</td>\n",
       "      <td>D:\\sem 7\\Bismillah Skripsi\\Voice Recog\\Data\\AS...</td>\n",
       "      <td>1</td>\n",
       "      <td>testing</td>\n",
       "    </tr>\n",
       "    <tr>\n",
       "      <th>37449</th>\n",
       "      <td>LA_0013</td>\n",
       "      <td>LA_E_5285610</td>\n",
       "      <td>A19</td>\n",
       "      <td>spoof</td>\n",
       "      <td>D:\\sem 7\\Bismillah Skripsi\\Voice Recog\\Data\\AS...</td>\n",
       "      <td>1</td>\n",
       "      <td>testing</td>\n",
       "    </tr>\n",
       "    <tr>\n",
       "      <th>37450</th>\n",
       "      <td>LA_0007</td>\n",
       "      <td>LA_E_5912220</td>\n",
       "      <td>A19</td>\n",
       "      <td>spoof</td>\n",
       "      <td>D:\\sem 7\\Bismillah Skripsi\\Voice Recog\\Data\\AS...</td>\n",
       "      <td>1</td>\n",
       "      <td>testing</td>\n",
       "    </tr>\n",
       "    <tr>\n",
       "      <th>37451</th>\n",
       "      <td>LA_0015</td>\n",
       "      <td>LA_E_5036389</td>\n",
       "      <td>A19</td>\n",
       "      <td>spoof</td>\n",
       "      <td>D:\\sem 7\\Bismillah Skripsi\\Voice Recog\\Data\\AS...</td>\n",
       "      <td>1</td>\n",
       "      <td>testing</td>\n",
       "    </tr>\n",
       "    <tr>\n",
       "      <th>37452</th>\n",
       "      <td>LA_0016</td>\n",
       "      <td>LA_E_8327594</td>\n",
       "      <td>A19</td>\n",
       "      <td>spoof</td>\n",
       "      <td>D:\\sem 7\\Bismillah Skripsi\\Voice Recog\\Data\\AS...</td>\n",
       "      <td>1</td>\n",
       "      <td>testing</td>\n",
       "    </tr>\n",
       "  </tbody>\n",
       "</table>\n",
       "<p>37453 rows × 7 columns</p>\n",
       "</div>"
      ],
      "text/plain": [
       "      speaker_id      filename attack_id class_name  \\\n",
       "0        LA_0085  LA_T_3891170         -   bonafide   \n",
       "1        LA_0097  LA_T_2948101         -   bonafide   \n",
       "2        LA_0084  LA_T_8919107         -   bonafide   \n",
       "3        LA_0081  LA_T_6650735         -   bonafide   \n",
       "4        LA_0086  LA_T_5362691         -   bonafide   \n",
       "...          ...           ...       ...        ...   \n",
       "37448    LA_0013  LA_E_7178035       A19      spoof   \n",
       "37449    LA_0013  LA_E_5285610       A19      spoof   \n",
       "37450    LA_0007  LA_E_5912220       A19      spoof   \n",
       "37451    LA_0015  LA_E_5036389       A19      spoof   \n",
       "37452    LA_0016  LA_E_8327594       A19      spoof   \n",
       "\n",
       "                                                filepath  target    subset  \n",
       "0      D:\\sem 7\\Bismillah Skripsi\\Voice Recog\\Data\\AS...       0  training  \n",
       "1      D:\\sem 7\\Bismillah Skripsi\\Voice Recog\\Data\\AS...       0  training  \n",
       "2      D:\\sem 7\\Bismillah Skripsi\\Voice Recog\\Data\\AS...       0  training  \n",
       "3      D:\\sem 7\\Bismillah Skripsi\\Voice Recog\\Data\\AS...       0  training  \n",
       "4      D:\\sem 7\\Bismillah Skripsi\\Voice Recog\\Data\\AS...       0  training  \n",
       "...                                                  ...     ...       ...  \n",
       "37448  D:\\sem 7\\Bismillah Skripsi\\Voice Recog\\Data\\AS...       1   testing  \n",
       "37449  D:\\sem 7\\Bismillah Skripsi\\Voice Recog\\Data\\AS...       1   testing  \n",
       "37450  D:\\sem 7\\Bismillah Skripsi\\Voice Recog\\Data\\AS...       1   testing  \n",
       "37451  D:\\sem 7\\Bismillah Skripsi\\Voice Recog\\Data\\AS...       1   testing  \n",
       "37452  D:\\sem 7\\Bismillah Skripsi\\Voice Recog\\Data\\AS...       1   testing  \n",
       "\n",
       "[37453 rows x 7 columns]"
      ]
     },
     "execution_count": 35,
     "metadata": {},
     "output_type": "execute_result"
    }
   ],
   "source": [
    "final_full_df = pd.concat([train_df_balanced, dev_df_balanced, test_df_balanced], axis=0).reset_index(drop=True)\n",
    "final_full_df"
   ]
  },
  {
   "cell_type": "code",
   "execution_count": 36,
   "id": "4829f0b6",
   "metadata": {},
   "outputs": [
    {
     "data": {
      "text/plain": [
       "subset      class_name\n",
       "testing     spoof         14716\n",
       "            bonafide       7355\n",
       "training    spoof          5160\n",
       "validation  spoof          5094\n",
       "training    bonafide       2580\n",
       "validation  bonafide       2548\n",
       "Name: count, dtype: int64"
      ]
     },
     "execution_count": 36,
     "metadata": {},
     "output_type": "execute_result"
    }
   ],
   "source": [
    "final_full_df[[\"subset\", \"class_name\"]].value_counts()"
   ]
  },
  {
   "cell_type": "code",
   "execution_count": null,
   "id": "95bfdecb",
   "metadata": {},
   "outputs": [],
   "source": [
    "final_full_df.to_csv(\"../data/processed/data_asv_spoof.csv\", index=False)"
   ]
  }
 ],
 "metadata": {
  "kernelspec": {
   "display_name": "newenv2",
   "language": "python",
   "name": "python3"
  },
  "language_info": {
   "codemirror_mode": {
    "name": "ipython",
    "version": 3
   },
   "file_extension": ".py",
   "mimetype": "text/x-python",
   "name": "python",
   "nbconvert_exporter": "python",
   "pygments_lexer": "ipython3",
   "version": "3.9.18"
  }
 },
 "nbformat": 4,
 "nbformat_minor": 5
}
